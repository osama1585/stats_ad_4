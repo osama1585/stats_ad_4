{
 "cells": [
  {
   "cell_type": "markdown",
   "id": "8e5cc1e6-f5fb-42a5-b60f-3a388201cea9",
   "metadata": {},
   "source": [
    "<span style=color:red;font-size:60px>ASSIGNMENT</span>"
   ]
  },
  {
   "cell_type": "markdown",
   "id": "76ef2185-cc84-4542-b5d3-65fd8632e781",
   "metadata": {},
   "source": [
    "<span style=color:pink;font-size:60px>STATISTICS ADVANCE-4</span>"
   ]
  },
  {
   "cell_type": "markdown",
   "id": "ec8e3ab0-f392-475f-97e1-e9d793dbd457",
   "metadata": {},
   "source": [
    "<span style=color:green>Q1: What is the difference between a t-test and a z-test? Provide an example scenario where you would\n",
    "use each type of test.</span>"
   ]
  },
  {
   "cell_type": "markdown",
   "id": "56cafe0b-60c9-49d0-81fe-69973933879a",
   "metadata": {},
   "source": [
    "Ans-"
   ]
  },
  {
   "cell_type": "markdown",
   "id": "87878924-57c4-45ef-ae46-d9a24e628f36",
   "metadata": {},
   "source": [
    "## Difference between T-Test and Z-Test\n",
    "\n",
    "In statistics, both t-tests and z-tests are used to make inferences about population parameters based on sample data. The main difference lies in the situations in which they are applicable, particularly when dealing with small sample sizes.\n",
    "\n",
    "### Z-Test\n",
    "\n",
    "- **Used when:** The population standard deviation is known.\n",
    "- **Applicable for:** Large sample sizes (usually n > 30).\n",
    "- **Formula:** \\( Z = \\frac{{\\bar{X} - \\mu}}{{\\frac{\\sigma}{\\sqrt{n}}}} \\)\n",
    "  \n",
    "### T-Test\n",
    "\n",
    "- **Used when:** The population standard deviation is unknown and must be estimated from the sample.\n",
    "- **Applicable for:** Small sample sizes (typically n < 30).\n",
    "- **Formula (One-sample T-Test):** \\( t = \\frac{{\\bar{X} - \\mu}}{{\\frac{s}{\\sqrt{n}}}} \\)\n",
    "\n",
    "### Example Scenario\n",
    "\n",
    "Let's consider a scenario where we want to test whether the average height of a sample of students differs significantly from the known average height of the entire student population.\n",
    "\n"
   ]
  },
  {
   "cell_type": "code",
   "execution_count": 5,
   "id": "fc3d30f4-c4ce-4576-9d62-22be0bb07d21",
   "metadata": {},
   "outputs": [
    {
     "name": "stdout",
     "output_type": "stream",
     "text": [
      "Z-Statistic: 4.605205106145149e-15, P-Value: 0.9999999999999962\n",
      "T-Statistic: -2.9455138746771814, P-Value: 0.007060822668515461\n"
     ]
    }
   ],
   "source": [
    "import numpy as np\n",
    "from scipy.stats import zscore, ttest_1samp\n",
    "\n",
    "# Generate sample data\n",
    "np.random.seed(42)\n",
    "sample_heights = np.random.normal(loc=170, scale=5, size=25)  # Assuming a normal distribution with mean 170 and standard deviation 5\n",
    "\n",
    "# Known population parameters\n",
    "population_mean = 172\n",
    "population_std_dev = 8\n",
    "\n",
    "# Z-Test (assuming population standard deviation is known)\n",
    "z_scores = zscore(sample_heights)\n",
    "z_statistic = z_scores.mean()\n",
    "p_value_z = 2 * (1 - stats.norm.cdf(np.abs(z_statistic)))  # Two-tailed test\n",
    "print(f'Z-Statistic: {z_statistic}, P-Value: {p_value_z}')\n",
    "\n",
    "# T-Test (assuming population standard deviation is unknown)\n",
    "t_statistic, p_value_t = ttest_1samp(sample_heights, popmean=population_mean)\n",
    "print(f'T-Statistic: {t_statistic}, P-Value: {p_value_t}')\n"
   ]
  },
  {
   "cell_type": "markdown",
   "id": "9b062de7-d521-4eef-a9d5-f34bb64c592e",
   "metadata": {},
   "source": [
    "<span style=color:green>Q2: Differentiate between one-tailed and two-tailed tests.</span>"
   ]
  },
  {
   "cell_type": "markdown",
   "id": "9190acbb-925a-4efd-876d-aafd39cde344",
   "metadata": {},
   "source": [
    "Ans-"
   ]
  },
  {
   "cell_type": "markdown",
   "id": "c5cdad1e-b31d-4dd6-827e-c4c2b7657d98",
   "metadata": {},
   "source": [
    "## One-Tailed vs. Two-Tailed Tests\n",
    "\n",
    "In hypothesis testing, the choice between a one-tailed and a two-tailed test depends on the nature of the research question and the directionality of the expected effect.\n",
    "\n",
    "### One-Tailed Test\n",
    "\n",
    "- **Definition:** A statistical test where the critical region is on only one side of the distribution curve.\n",
    "- **Use:** Applied when there is a specific directional hypothesis, and the interest is only in one side of the distribution (either an increase or a decrease).\n",
    "- **Example Scenario:** Testing whether a new drug increases the average response time. The one-tailed hypothesis would be: \\( H_0: \\mu_{\\text{old}} \\geq \\mu_{\\text{new}} \\) vs. \\( H_1: \\mu_{\\text{old}} < \\mu_{\\text{new}} \\).\n",
    "\n",
    "### Two-Tailed Test\n",
    "\n",
    "- **Definition:** A statistical test where the critical region is on both sides of the distribution curve.\n",
    "- **Use:** Applied when the research question is non-directional, and the interest is in detecting any significant difference (increase or decrease).\n",
    "- **Example Scenario:** Testing whether a new teaching method has a different effect on test scores. The two-tailed hypothesis would be: \\( H_0: \\mu_{\\text{method}} = \\mu_{\\text{control}} \\) vs. \\( H_1: \\mu_{\\text{method}} \\neq \\mu_{\\text{control}} \\).\n",
    "\n",
    "### Key Differences\n",
    "\n",
    "- **Critical Region:** One-tailed tests have a critical region on only one side of the distribution, while two-tailed tests have critical regions on both sides.\n",
    "- **Directionality:** One-tailed tests are used when there is a specific expected direction of the effect, while two-tailed tests are used when the direction of the effect is not specified.\n",
    "\n",
    "These choices in hypothesis testing depend on the researcher's understanding of the problem and the specific hypotheses being tested.\n"
   ]
  },
  {
   "cell_type": "markdown",
   "id": "efb39d72-e5da-43c1-b09a-14fcb15c632e",
   "metadata": {},
   "source": [
    "<span style=color:green>Q3: Explain the concept of Type 1 and Type 2 errors in hypothesis testing. Provide an example scenario for\n",
    "each type of error.<s/pan>"
   ]
  },
  {
   "cell_type": "markdown",
   "id": "3ad1e8bd-4f89-41dd-99c1-0dc396c9b185",
   "metadata": {},
   "source": [
    "Ans-"
   ]
  },
  {
   "cell_type": "markdown",
   "id": "33e0087b-2271-4f40-bf44-d1cadf454620",
   "metadata": {},
   "source": [
    "## Type I and Type II Errors in Hypothesis Testing\n",
    "\n",
    "In hypothesis testing, errors can occur when making decisions about the null hypothesis (\\(H_0\\)). These errors are classified into two types: Type I and Type II errors.\n",
    "\n",
    "### Type I Error (False Positive)\n",
    "\n",
    "- **Definition:** Rejecting the null hypothesis when it is actually true.\n",
    "- **Symbol:** \\( \\alpha \\) (alpha)\n",
    "- **Probability of Type I Error:** The significance level (\\(\\alpha\\)) is the probability of making a Type I error.\n",
    "- **Example Scenario:** A drug testing scenario where the null hypothesis (\\(H_0\\)) is that the drug has no effect. A Type I error occurs if we wrongly conclude that the drug is effective and approve it for use when, in reality, it has no effect.\n",
    "\n",
    "### Type II Error (False Negative)\n",
    "\n",
    "- **Definition:** Failing to reject the null hypothesis when it is actually false.\n",
    "- **Symbol:** \\( \\beta \\) (beta)\n",
    "- **Probability of Type II Error:** Dependent on the power of the test (\\(1 - \\beta\\)).\n",
    "- **Example Scenario:** A medical test for a rare disease where the null hypothesis (\\(H_0\\)) is that the patient is healthy. A Type II error occurs if we fail to detect the disease in a patient who actually has it.\n",
    "\n",
    "### Key Concepts\n",
    "\n",
    "- **Trade-off:** There is often a trade-off between Type I and Type II errors. As the probability of one type of error decreases, the probability of the other type increases.\n",
    "- **Significance Level (\\(\\alpha\\)):** Researchers set the significance level to control the probability of Type I errors. Common choices include 0.05 and 0.01.\n",
    "- **Power of the Test:** The ability of a test to detect a true effect and avoid Type II errors is measured by the power of the test.\n",
    "\n",
    "Understanding and controlling Type I and Type II errors are crucial in hypothesis testing to ensure the reliability of study results and decision-making.\n"
   ]
  },
  {
   "cell_type": "markdown",
   "id": "ee5abbd2-d239-4757-b112-02f79a394bfe",
   "metadata": {},
   "source": [
    "<span style=color:green>Q4:  Explain Bayes's theorem with an example.</span."
   ]
  },
  {
   "cell_type": "markdown",
   "id": "698bfb16-a10a-4515-baba-92fdfb692fed",
   "metadata": {},
   "source": [
    "Ans-"
   ]
  },
  {
   "cell_type": "markdown",
   "id": "9be95d92-85f8-43cb-9a82-4884879b3d0b",
   "metadata": {},
   "source": [
    "## Bayes's Theorem\n",
    "\n",
    "Bayes's theorem is a fundamental concept in probability theory that describes the probability of an event based on prior knowledge of conditions that might be related to the event. It is named after the Reverend Thomas Bayes.\n",
    "\n",
    "### Formula\n",
    "\n",
    "Bayes's theorem is mathematically expressed as:\n",
    "\n",
    "\\[ P(A|B) = \\frac{P(B|A) \\cdot P(A)}{P(B)} \\]\n",
    "\n",
    "where:\n",
    "- \\( P(A|B) \\) is the probability of event A given that event B has occurred.\n",
    "- \\( P(B|A) \\) is the probability of event B given that event A has occurred.\n",
    "- \\( P(A) \\) and \\( P(B) \\) are the probabilities of events A and B, respectively.\n",
    "\n",
    "### Example Scenario\n",
    "\n",
    "Let's consider a medical example to illustrate Bayes's theorem:\n",
    "\n",
    "- **Scenario:** Suppose there is a rare disease (Event A) that occurs in 1% of the population. Additionally, there is a diagnostic test for the disease that has a 90% accuracy rate (Event B). The test produces false positives in 5% of cases.\n",
    "\n",
    "- **Given:**\n",
    "  - \\( P(A) \\): Probability of having the disease = 0.01 (1% of the population)\n",
    "  - \\( P(B|A) \\): Probability of testing positive given the disease = 0.90 (90% accuracy)\n",
    "  - \\( P(\\neg B|\\neg A) \\): Probability of testing negative given not having the disease = 0.95 (5% false positive rate)\n",
    "\n",
    "- **Calculation:**\n",
    "\\[ P(A|B) = \\frac{P(B|A) \\cdot P(A)}{P(B)} \\]\n",
    "\\[ P(A|B) = \\frac{(0.90 \\cdot 0.01)}{(0.90 \\cdot 0.01 + 0.05 \\cdot 0.99)} \\]\n",
    "\n",
    "- **Result:**\n",
    "  - The probability of having the disease given a positive test result is calculated using Bayes's theorem.\n",
    "\n",
    "### Interpretation\n",
    "\n",
    "Bayes's theorem allows us to update our prior beliefs (prior probability of having the disease) based on new evidence (positive test result). In this example, the probability of having the disease given a positive test result may be different from the accuracy rate of the test alone due to the rarity of the disease and the false positive rate.\n",
    "\n",
    "Understanding Bayes's theorem is crucial in fields such as medicine, where accurate interpretation of diagnostic test results is essential.\n"
   ]
  },
  {
   "cell_type": "markdown",
   "id": "d321bd66-e8a0-43eb-8cf7-1ff09051f0c4",
   "metadata": {},
   "source": [
    "<span style=color:green>Q5: What is a confidence interval? How to calculate the confidence interval, explain with an example.</span>"
   ]
  },
  {
   "cell_type": "markdown",
   "id": "9bc13061-ed83-4ee0-8c05-f1187fb32a64",
   "metadata": {},
   "source": [
    "Ans-"
   ]
  },
  {
   "cell_type": "markdown",
   "id": "76aaee8a-80f0-4a0b-b9be-b3266c81c2f6",
   "metadata": {},
   "source": [
    "## Confidence Interval\n",
    "\n",
    "A confidence interval is a range of values that is used to estimate the true value of a population parameter with a certain level of confidence. It provides a way to quantify the uncertainty associated with a sample estimate and helps researchers understand the precision of their findings.\n",
    "\n",
    "### Calculation of Confidence Interval\n",
    "\n",
    "The general formula for calculating a confidence interval for a population mean (\\(\\mu\\)) is:\n",
    "\n",
    "\\[ \\text{Confidence Interval} = \\bar{X} \\pm Z \\left(\\frac{\\sigma}{\\sqrt{n}}\\right) \\]\n",
    "\n",
    "where:\n",
    "- \\(\\bar{X}\\) is the sample mean,\n",
    "- \\(Z\\) is the Z-score corresponding to the desired confidence level,\n",
    "- \\(\\sigma\\) is the population standard deviation (or the sample standard deviation in the case of small sample sizes),\n",
    "- \\(n\\) is the sample size.\n",
    "\n",
    "### Example Scenario\n",
    "\n",
    "Let's consider an example of calculating a 95% confidence interval for the average height of a population based on a sample.\n",
    "\n",
    "```python\n",
    "\n"
   ]
  },
  {
   "cell_type": "code",
   "execution_count": 11,
   "id": "989b5e62-c140-4e6b-b9c9-2648128bd538",
   "metadata": {},
   "outputs": [
    {
     "name": "stdout",
     "output_type": "stream",
     "text": [
      "Sample Mean: 169.18245970670952\n",
      "Confidence Interval (95.0%): (167.30765017098972, 171.05726924242933)\n"
     ]
    }
   ],
   "source": [
    "import numpy as np\n",
    "from scipy import stats\n",
    "\n",
    "# Generate sample data\n",
    "np.random.seed(42)\n",
    "sample_heights = np.random.normal(loc=170, scale=5, size=25)  # Assuming a normal distribution with mean 170 and standard deviation 5\n",
    "\n",
    "# Calculate sample statistics\n",
    "sample_mean = np.mean(sample_heights)\n",
    "sample_std_dev = np.std(sample_heights, ddof=1)  # Use ddof=1 for sample standard deviation\n",
    "sample_size = len(sample_heights)\n",
    "\n",
    "# Choose confidence level and find Z-score\n",
    "confidence_level = 0.95\n",
    "z_score = stats.norm.ppf((1 + confidence_level) / 2)\n",
    "\n",
    "# Calculate confidence interval\n",
    "margin_of_error = z_score * (sample_std_dev / np.sqrt(sample_size))\n",
    "confidence_interval = (sample_mean - margin_of_error, sample_mean + margin_of_error)\n",
    "\n",
    "print(f\"Sample Mean: {sample_mean}\")\n",
    "print(f\"Confidence Interval ({confidence_level*100}%): {confidence_interval}\")"
   ]
  },
  {
   "cell_type": "markdown",
   "id": "7fccdc75-4b2e-4bc7-b27f-804cd41204e9",
   "metadata": {},
   "source": [
    "<span style=color:green>Q6. Use Bayes' Theorem to calculate the probability of an event occurring given prior knowledge of the\n",
    "event's probability and new evidence. Provide a sample problem and solution.</span>"
   ]
  },
  {
   "cell_type": "markdown",
   "id": "4be0b186-ffc9-4faf-8e0e-73b6b09c155e",
   "metadata": {},
   "source": [
    "Ans-"
   ]
  },
  {
   "cell_type": "markdown",
   "id": "6689e72f-6a0b-4228-a95d-d049aea5f77e",
   "metadata": {},
   "source": [
    "## Using Bayes's Theorem for Probability Calculation\n",
    "\n",
    "Bayes's Theorem is a powerful tool for updating probabilities based on new evidence. It allows us to revise our beliefs about the likelihood of an event occurring given prior information and observed data.\n",
    "\n",
    "### Bayes's Theorem Formula\n",
    "\n",
    "\\[ P(A|B) = \\frac{P(B|A) \\cdot P(A)}{P(B)} \\]\n",
    "\n",
    "where:\n",
    "- \\( P(A|B) \\) is the posterior probability of event A given evidence B.\n",
    "- \\( P(B|A) \\) is the likelihood of evidence B given event A.\n",
    "- \\( P(A) \\) is the prior probability of event A.\n",
    "- \\( P(B) \\) is the probability of evidence B.\n",
    "\n",
    "### Sample Problem\n",
    "\n",
    "Let's consider a classic example involving a medical test for a rare disease.\n",
    "\n",
    "- **Scenario:**\n",
    "  - A rare disease (Event A) occurs in 1% of the population (\\( P(A) = 0.01 \\)).\n",
    "  - A diagnostic test for the disease (Event B) has a 95% accuracy rate (\\( P(B|A) = 0.95 \\)).\n",
    "  - The test produces false positives in 2% of cases (\\( P(B|\\neg A) = 0.02 \\)).\n",
    "\n",
    "- **Calculation:**\n",
    "\\[ P(A|B) = \\frac{P(B|A) \\cdot P(A)}{P(B)} \\]\n",
    "\\[ P(A|B) = \\frac{(0.95 \\cdot 0.01)}{(0.95 \\cdot 0.01 + 0.02 \\cdot 0.99)} \\]\n",
    "\n",
    "- **Result:**\n",
    "  - The calculated probability (\\( P(A|B) \\)) represents the updated probability of having the disease given a positive test result.\n",
    "\n",
    "### Interpretation\n",
    "\n",
    "Bayes's Theorem allows us to combine prior knowledge with new evidence to obtain a more accurate estimate of the probability of an event. In this example, the probability of having the disease is adjusted based on the accuracy of the diagnostic test and the prevalence of the disease in the population.\n"
   ]
  },
  {
   "cell_type": "markdown",
   "id": "236f3bf1-251b-4e2c-ba90-ddb707e9566d",
   "metadata": {},
   "source": [
    "<span style=color:green>Q7. Calculate the 95% confidence interval for a sample of data with a mean of 50 and a standard deviation\n",
    "of 5. Interpret the results.</span>"
   ]
  },
  {
   "cell_type": "markdown",
   "id": "b2bea4ce-e01f-4ad3-ac45-083061f3fbf5",
   "metadata": {},
   "source": [
    "Ans-"
   ]
  },
  {
   "cell_type": "markdown",
   "id": "1db69d94-78fc-4b76-9c53-eb1f7cad6c94",
   "metadata": {},
   "source": [
    "## Calculating and Interpreting a 95% Confidence Interval\n",
    "\n",
    "Let's calculate the 95% confidence interval for a sample with a mean of 50 and a standard deviation of 5. The confidence interval provides a range within which we can reasonably expect the true population mean to lie.\n",
    "\n",
    "### Given Data\n",
    "\n",
    "- Sample Mean (\\(\\bar{X}\\)): 50\n",
    "- Sample Standard Deviation (\\(s\\)): 5\n",
    "- Sample Size (\\(n\\)): The sample size is not provided, and for the calculation, we'll assume a reasonably large sample size.\n",
    "\n",
    "### Calculation\n",
    "\n",
    "The formula for the confidence interval is given by:\n",
    "\n",
    "\\[ \\text{Confidence Interval} = \\bar{X} \\pm Z \\left(\\frac{s}{\\sqrt{n}}\\right) \\]\n",
    "\n",
    "where \\(Z\\) is the Z-score corresponding to the desired confidence level. For a 95% confidence interval, \\(Z \\approx 1.96\\).\n",
    "\n",
    "Let's assume a sample size of 100 for this example:\n"
   ]
  },
  {
   "cell_type": "code",
   "execution_count": 12,
   "id": "be5b2132-c0a5-4683-badb-339329600e5b",
   "metadata": {},
   "outputs": [
    {
     "data": {
      "text/plain": [
       "(49.02001800772997, 50.97998199227003)"
      ]
     },
     "execution_count": 12,
     "metadata": {},
     "output_type": "execute_result"
    }
   ],
   "source": [
    "import numpy as np\n",
    "from scipy import stats\n",
    "\n",
    "# Given data\n",
    "sample_mean = 50\n",
    "sample_std_dev = 5\n",
    "sample_size = 100  # Assumed sample size\n",
    "\n",
    "# Z-score for a 95% confidence interval\n",
    "z_score = stats.norm.ppf(0.975)\n",
    "\n",
    "# Calculate confidence interval\n",
    "margin_of_error = z_score * (sample_std_dev / np.sqrt(sample_size))\n",
    "confidence_interval = (sample_mean - margin_of_error, sample_mean + margin_of_error)\n",
    "\n",
    "confidence_interval\n"
   ]
  },
  {
   "cell_type": "markdown",
   "id": "85181764-f0ef-4fb8-8ac7-84bedebdd126",
   "metadata": {},
   "source": [
    "<span style=color:green>Q8. What is the margin of error in a confidence interval? How does sample size affect the margin of error?\n",
    "Provide an example of a scenario where a larger sample size would result in a smaller margin of error.</span>"
   ]
  },
  {
   "cell_type": "markdown",
   "id": "9d99a04f-d329-45ab-b2ac-20030682b66c",
   "metadata": {},
   "source": [
    "Ans-"
   ]
  },
  {
   "cell_type": "markdown",
   "id": "3d80221f-6b6d-4dfb-b001-498fee238d36",
   "metadata": {},
   "source": [
    "## Margin of Error in Confidence Interval\n",
    "\n",
    "The margin of error is a measure of the uncertainty or precision associated with a sample estimate in a confidence interval. It represents the range within which the true population parameter is likely to fall.\n",
    "\n",
    "### Formula\n",
    "\n",
    "The margin of error (\\(ME\\)) in a confidence interval is given by:\n",
    "\n",
    "\\[ ME = Z \\left(\\frac{s}{\\sqrt{n}}\\right) \\]\n",
    "\n",
    "where:\n",
    "- \\( Z \\) is the Z-score corresponding to the desired confidence level.\n",
    "- \\( s \\) is the sample standard deviation.\n",
    "- \\( n \\) is the sample size.\n",
    "\n",
    "### Sample Size and Margin of Error\n",
    "\n",
    "As the sample size (\\( n \\)) increases, the margin of error decreases. Larger sample sizes lead to more precise estimates and narrower confidence intervals.\n",
    "\n",
    "### Example Scenario\n",
    "\n",
    "Let's consider a scenario where we want to estimate the average time it takes for customers to complete an online survey. We'll compare the margin of error for two sample sizes: 50 and 200.\n",
    "\n",
    "\n"
   ]
  },
  {
   "cell_type": "code",
   "execution_count": 13,
   "id": "87d7414b-a6e7-408b-942e-3b59d962951c",
   "metadata": {},
   "outputs": [
    {
     "data": {
      "text/plain": [
       "[0.8315422946098067, 0.41577114730490333]"
      ]
     },
     "execution_count": 13,
     "metadata": {},
     "output_type": "execute_result"
    }
   ],
   "source": [
    "import numpy as np\n",
    "from scipy import stats\n",
    "\n",
    "# Given data\n",
    "sample_mean = 15  # Assume the average completion time is 15 minutes\n",
    "sample_std_dev = 3\n",
    "confidence_level = 0.95\n",
    "\n",
    "# Z-score for a 95% confidence interval\n",
    "z_score = stats.norm.ppf((1 + confidence_level) / 2)\n",
    "\n",
    "# Calculate margin of error for two sample sizes\n",
    "sample_sizes = [50, 200]\n",
    "margin_of_errors = [z_score * (sample_std_dev / np.sqrt(sample_size)) for sample_size in sample_sizes]\n",
    "\n",
    "margin_of_errors"
   ]
  },
  {
   "cell_type": "markdown",
   "id": "14742f6d-d361-42f3-8b99-826b4053ad4a",
   "metadata": {},
   "source": [
    "<span style=color:green>Q9. Calculate the z-score for a data point with a value of 75, a population mean of 70, and a population\n",
    "standard deviation of 5. Interpret the results.</span>"
   ]
  },
  {
   "cell_type": "markdown",
   "id": "7826188f-7205-4631-bc8b-ca578b183a70",
   "metadata": {},
   "source": [
    "Ans-"
   ]
  },
  {
   "cell_type": "markdown",
   "id": "02d99825-dda1-4eb8-955c-329bd05da037",
   "metadata": {},
   "source": [
    "## Calculating and Interpreting Z-Score\n",
    "\n",
    "The z-score is a measure of how many standard deviations a particular data point is from the mean of a distribution. It is calculated using the formula:\n",
    "\n",
    "\\[ Z = \\frac{{X - \\mu}}{{\\sigma}} \\]\n",
    "\n",
    "where:\n",
    "- \\( X \\) is the data point's value,\n",
    "- \\( \\mu \\) is the population mean,\n",
    "- \\( \\sigma \\) is the population standard deviation.\n",
    "\n",
    "### Given Data\n",
    "\n",
    "- Data Point Value (\\( X \\)): 75\n",
    "- Population Mean (\\( \\mu \\)): 70\n",
    "- Population Standard Deviation (\\( \\sigma \\)): 5\n",
    "\n",
    "### Calculation\n",
    "\n",
    "Let's calculate the z-score for the given data point:\n",
    "\n",
    "```python\n"
   ]
  },
  {
   "cell_type": "code",
   "execution_count": 14,
   "id": "07c19eaa-6fea-4ac7-b10c-9f807a519bf6",
   "metadata": {},
   "outputs": [
    {
     "data": {
      "text/plain": [
       "1.0"
      ]
     },
     "execution_count": 14,
     "metadata": {},
     "output_type": "execute_result"
    }
   ],
   "source": [
    "# Given data\n",
    "data_point = 75\n",
    "population_mean = 70\n",
    "population_std_dev = 5\n",
    "\n",
    "# Calculate z-score\n",
    "z_score = (data_point - population_mean) / population_std_dev\n",
    "z_score\n"
   ]
  },
  {
   "cell_type": "markdown",
   "id": "7a1e6927-d78a-4357-928c-08d788eb375a",
   "metadata": {},
   "source": [
    "<span style=color:green>Q10. In a study of the effectiveness of a new weight loss drug, a sample of 50 participants lost an average\n",
    "of 6 pounds with a standard deviation of 2.5 pounds. Conduct a hypothesis test to determine if the drug is\n",
    "significantly effective at a 95% confidence level using a t-test.</span>"
   ]
  },
  {
   "cell_type": "markdown",
   "id": "16ee7fde-f8f5-4441-b193-85286c7c0836",
   "metadata": {},
   "source": [
    "Ans-"
   ]
  },
  {
   "cell_type": "markdown",
   "id": "b2669149-5e96-48fd-a42d-0fdc0be9cbb1",
   "metadata": {},
   "source": [
    "## Hypothesis Test for Weight Loss Drug Effectiveness\n",
    "\n",
    "In this example, we will conduct a hypothesis test to determine if a new weight loss drug is significantly effective at a 95% confidence level using a t-test.\n",
    "\n",
    "### Given Data\n",
    "\n",
    "- Sample Size (\\(n\\)): 50\n",
    "- Sample Mean (\\(\\bar{X}\\)): 6 pounds\n",
    "- Sample Standard Deviation (\\(s\\)): 2.5 pounds\n",
    "- Confidence Level: 95%\n",
    "\n",
    "### Hypotheses\n",
    "\n",
    "The null hypothesis (\\(H_0\\)) and alternative hypothesis (\\(H_1\\)) are formulated as follows:\n",
    "\n",
    "\\[ H_0: \\mu = 0 \\]\n",
    "\\[ H_1: \\mu \\neq 0 \\]\n",
    "\n",
    "where \\(\\mu\\) is the population mean weight loss.\n",
    "\n",
    "### T-Test Calculation\n",
    "\n",
    "We will use a two-sample t-test since we don't know the population standard deviation. The t-statistic is calculated as:\n",
    "\n",
    "\\[ t = \\frac{{\\bar{X} - \\mu_0}}{{\\frac{s}{\\sqrt{n}}}} \\]\n",
    "\n",
    "Let's assume a significance level (\\(\\alpha\\)) of 0.05:\n",
    "\n",
    "```python\n",
    "\n"
   ]
  },
  {
   "cell_type": "code",
   "execution_count": 15,
   "id": "b6ebebb2-8c16-4d31-9a3b-4ffa79ed6a18",
   "metadata": {},
   "outputs": [
    {
     "data": {
      "text/plain": [
       "(16.970562748477143, 0.0)"
      ]
     },
     "execution_count": 15,
     "metadata": {},
     "output_type": "execute_result"
    }
   ],
   "source": [
    "import numpy as np\n",
    "from scipy import stats\n",
    "\n",
    "# Given data\n",
    "sample_size = 50\n",
    "sample_mean = 6\n",
    "sample_std_dev = 2.5\n",
    "confidence_level = 0.95\n",
    "alpha = 0.05\n",
    "\n",
    "# Degrees of freedom\n",
    "df = sample_size - 1\n",
    "\n",
    "# Critical t-value\n",
    "t_critical = stats.t.ppf(1 - alpha / 2, df)\n",
    "\n",
    "# Calculate standard error of the mean (SEM)\n",
    "sem = sample_std_dev / np.sqrt(sample_size)\n",
    "\n",
    "# Calculate t-statistic\n",
    "t_statistic = (sample_mean - 0) / sem\n",
    "\n",
    "# Calculate p-value\n",
    "p_value = 2 * (1 - stats.t.cdf(np.abs(t_statistic), df))\n",
    "\n",
    "t_statistic, p_value"
   ]
  },
  {
   "cell_type": "markdown",
   "id": "13584842-5db5-476b-bc95-d0f6e7c307a0",
   "metadata": {},
   "source": [
    "<span style=color:green>Q11. In a survey of 500 people, 65% reported being satisfied with their current job. Calculate the 95%\n",
    "confidence interval for the true proportion of people who are satisfied with their job.\n",
    "\n",
    "</span>"
   ]
  },
  {
   "cell_type": "markdown",
   "id": "b862900b-ea65-4c13-bd70-219be92a9411",
   "metadata": {},
   "source": [
    "Ans-"
   ]
  },
  {
   "cell_type": "markdown",
   "id": "8cfda276-206c-45c4-ab3b-3f69fed81759",
   "metadata": {},
   "source": [
    "## Calculating 95% Confidence Interval for Job Satisfaction\n",
    "\n",
    "In this example, we will calculate the 95% confidence interval for the true proportion of people who are satisfied with their job based on survey data.\n",
    "\n",
    "### Given Data\n",
    "\n",
    "- Sample Size (\\(n\\)): 500\n",
    "- Sample Proportion (\\(p\\)): 65% or 0.65\n",
    "- Confidence Level: 95%\n",
    "\n",
    "### Confidence Interval Formula\n",
    "\n",
    "The formula for calculating the confidence interval for a proportion is given by:\n",
    "\n",
    "\\[ \\text{Confidence Interval} = \\hat{p} \\pm Z \\sqrt{\\frac{\\hat{p}(1-\\hat{p})}{n}} \\]\n",
    "\n",
    "where:\n",
    "- \\(\\hat{p}\\) is the sample proportion,\n",
    "- \\(Z\\) is the Z-score corresponding to the desired confidence level,\n",
    "- \\(n\\) is the sample size.\n",
    "\n",
    "Let's calculate the confidence interval:\n"
   ]
  },
  {
   "cell_type": "code",
   "execution_count": 16,
   "id": "20476850-81ff-4b6f-be84-e57242b1d14c",
   "metadata": {},
   "outputs": [
    {
     "data": {
      "text/plain": [
       "(0.6081925393809212, 0.6918074606190788)"
      ]
     },
     "execution_count": 16,
     "metadata": {},
     "output_type": "execute_result"
    }
   ],
   "source": [
    "import numpy as np\n",
    "from scipy import stats\n",
    "\n",
    "# Given data\n",
    "sample_proportion = 0.65\n",
    "sample_size = 500\n",
    "confidence_level = 0.95\n",
    "\n",
    "# Z-score for a 95% confidence interval\n",
    "z_score = stats.norm.ppf((1 + confidence_level) / 2)\n",
    "\n",
    "# Calculate confidence interval\n",
    "margin_of_error = z_score * np.sqrt((sample_proportion * (1 - sample_proportion)) / sample_size)\n",
    "confidence_interval = (sample_proportion - margin_of_error, sample_proportion + margin_of_error)\n",
    "\n",
    "confidence_interval\n"
   ]
  },
  {
   "cell_type": "markdown",
   "id": "eff29822-fe37-45f9-b548-f42fbc6dd5dc",
   "metadata": {},
   "source": [
    "<span style=color:green>Q12. A researcher is testing the effectiveness of two different teaching methods on student performance.\n",
    "Sample A has a mean score of 85 with a standard deviation of 6, while sample B has a mean score of 82\n",
    "with a standard deviation of 5. Conduct a hypothesis test to determine if the two teaching methods have a\n",
    "significant difference in student performance using a t-test with a significance level of 0.01.</span>"
   ]
  },
  {
   "cell_type": "markdown",
   "id": "272e8c36-cda5-4622-a48c-97e14e00fc24",
   "metadata": {},
   "source": [
    "Ans-"
   ]
  },
  {
   "cell_type": "markdown",
   "id": "c3a3c797-2366-4606-956f-38831a357e11",
   "metadata": {},
   "source": [
    "## Hypothesis Test for Difference in Teaching Methods\n",
    "\n",
    "In this example, we will conduct a hypothesis test to determine if there is a significant difference in student performance between two teaching methods (Sample A and Sample B) using a t-test.\n",
    "\n",
    "### Given Data\n",
    "\n",
    "For Sample A:\n",
    "- Sample Mean (\\(\\bar{X}_A\\)): 85\n",
    "- Sample Standard Deviation (\\(s_A\\)): 6\n",
    "- Sample Size (\\(n_A\\)): Not provided\n",
    "\n",
    "For Sample B:\n",
    "- Sample Mean (\\(\\bar{X}_B\\)): 82\n",
    "- Sample Standard Deviation (\\(s_B\\)): 5\n",
    "- Sample Size (\\(n_B\\)): Not provided\n",
    "\n",
    "Significance Level (\\(\\alpha\\)): 0.01\n",
    "\n",
    "### Hypotheses\n",
    "\n",
    "The null hypothesis (\\(H_0\\)) and alternative hypothesis (\\(H_1\\)) are formulated as follows:\n",
    "\n",
    "\\[ H_0: \\mu_A = \\mu_B \\]\n",
    "\\[ H_1: \\mu_A \\neq \\mu_B \\]\n",
    "\n",
    "where \\(\\mu_A\\) and \\(\\mu_B\\) are the population means for the two teaching methods.\n",
    "\n",
    "### T-Test Calculation\n",
    "\n",
    "We will conduct a two-sample t-test assuming unequal variances. The t-statistic is calculated as:\n",
    "\n",
    "\\[ t = \\frac{{\\bar{X}_A - \\bar{X}_B}}{{\\sqrt{\\frac{{s_A^2}}{{n_A}} + \\frac{{s_B^2}}{{n_B}}}}} \\]\n",
    "\n",
    "Let's assume equal sample sizes for simplicity and a significance level of 0.01:\n",
    "\n"
   ]
  },
  {
   "cell_type": "code",
   "execution_count": 17,
   "id": "5b577baf-2974-43f1-b388-a816399563c7",
   "metadata": {},
   "outputs": [
    {
     "data": {
      "text/plain": [
       "(2.1038606199548298, 0.03973697161571063)"
      ]
     },
     "execution_count": 17,
     "metadata": {},
     "output_type": "execute_result"
    }
   ],
   "source": [
    "import numpy as np\n",
    "from scipy import stats\n",
    "\n",
    "# Given data for Sample A\n",
    "mean_A = 85\n",
    "std_dev_A = 6\n",
    "\n",
    "# Given data for Sample B\n",
    "mean_B = 82\n",
    "std_dev_B = 5\n",
    "\n",
    "# Assume equal sample sizes for simplicity\n",
    "sample_size_A = 30\n",
    "sample_size_B = 30\n",
    "\n",
    "# Calculate t-statistic\n",
    "t_statistic, p_value = stats.ttest_ind_from_stats(mean_A, std_dev_A, sample_size_A, mean_B, std_dev_B, sample_size_B)\n",
    "\n",
    "t_statistic, p_value"
   ]
  },
  {
   "cell_type": "markdown",
   "id": "c907fab0-8dd8-44fb-b599-7b1d8fb634e0",
   "metadata": {},
   "source": [
    "<span style=color:green>Q13. A population has a mean of 60 and a standard deviation of 8. A sample of 50 observations has a mean\n",
    "of 65. Calculate the 90% confidence interval for the true population mean.,</span>"
   ]
  },
  {
   "cell_type": "markdown",
   "id": "172b61fa-8411-4132-b6a3-a0c77961471f",
   "metadata": {},
   "source": [
    "Ans-"
   ]
  },
  {
   "cell_type": "markdown",
   "id": "60349a35-3a3a-40cc-89da-7c2b641f3c04",
   "metadata": {},
   "source": [
    "## Calculating 90% Confidence Interval for Population Mean\n",
    "\n",
    "In this example, we will calculate the 90% confidence interval for the true population mean based on a sample of 50 observations.\n",
    "\n",
    "### Given Data\n",
    "\n",
    "- Population Mean (\\(\\mu\\)): 60\n",
    "- Population Standard Deviation (\\(\\sigma\\)): 8\n",
    "- Sample Size (\\(n\\)): 50\n",
    "- Sample Mean (\\(\\bar{X}\\)): 65\n",
    "- Confidence Level: 90%\n",
    "\n",
    "### Confidence Interval Formula\n",
    "\n",
    "The formula for calculating the confidence interval for a population mean is given by:\n",
    "\n",
    "\\[ \\text{Confidence Interval} = \\bar{X} \\pm Z \\left(\\frac{\\sigma}{\\sqrt{n}}\\right) \\]\n",
    "\n",
    "where:\n",
    "- \\(\\bar{X}\\) is the sample mean,\n",
    "- \\(Z\\) is the Z-score corresponding to the desired confidence level,\n",
    "- \\(\\sigma\\) is the population standard deviation,\n",
    "- \\(n\\) is the sample size.\n",
    "\n",
    "Let's calculate the confidence interval:\n"
   ]
  },
  {
   "cell_type": "code",
   "execution_count": 18,
   "id": "d08e03b8-4d1a-4733-8341-25303347013e",
   "metadata": {},
   "outputs": [
    {
     "data": {
      "text/plain": [
       "(63.13906055411732, 66.86093944588268)"
      ]
     },
     "execution_count": 18,
     "metadata": {},
     "output_type": "execute_result"
    }
   ],
   "source": [
    "import numpy as np\n",
    "from scipy import stats\n",
    "\n",
    "# Given data\n",
    "population_mean = 60\n",
    "population_std_dev = 8\n",
    "sample_size = 50\n",
    "sample_mean = 65\n",
    "confidence_level = 0.90\n",
    "\n",
    "# Z-score for a 90% confidence interval\n",
    "z_score = stats.norm.ppf((1 + confidence_level) / 2)\n",
    "\n",
    "# Calculate confidence interval\n",
    "margin_of_error = z_score * (population_std_dev / np.sqrt(sample_size))\n",
    "confidence_interval = (sample_mean - margin_of_error, sample_mean + margin_of_error)\n",
    "\n",
    "confidence_interval\n"
   ]
  },
  {
   "cell_type": "markdown",
   "id": "16721883-8b38-44c8-becd-5532db1c32a5",
   "metadata": {},
   "source": [
    "<span style=color:green>Q14. In a study of the effects of caffeine on reaction time, a sample of 30 participants had an average\n",
    "reaction time of 0.25 seconds with a standard deviation of 0.05 seconds. Conduct a hypothesis test to\n",
    "determine if the caffeine has a significant effect on reaction time at a 90% confidence level using a t-test.</span>"
   ]
  },
  {
   "cell_type": "markdown",
   "id": "fd94a7a4-97ca-4185-9c85-60a5dbd6ce21",
   "metadata": {},
   "source": [
    "Ans-"
   ]
  },
  {
   "cell_type": "markdown",
   "id": "fbbfa621-2739-413b-a573-d1bc12c0dc72",
   "metadata": {},
   "source": [
    "## Hypothesis Test for Caffeine's Effect on Reaction Time\n",
    "\n",
    "In this example, we will conduct a hypothesis test to determine if caffeine has a significant effect on reaction time using a t-test at a 90% confidence level.\n",
    "\n",
    "### Given Data\n",
    "\n",
    "- Sample Size (\\(n\\)): 30\n",
    "- Sample Mean Reaction Time (\\(\\bar{X}\\)): 0.25 seconds\n",
    "- Sample Standard Deviation (\\(s\\)): 0.05 seconds\n",
    "- Confidence Level: 90%\n",
    "\n",
    "### Hypotheses\n",
    "\n",
    "The null hypothesis (\\(H_0\\)) and alternative hypothesis (\\(H_1\\)) are formulated as follows:\n",
    "\n",
    "\\[ H_0: \\mu = 0 \\]\n",
    "\\[ H_1: \\mu \\neq 0 \\]\n",
    "\n",
    "where \\(\\mu\\) is the population mean reaction time.\n",
    "\n",
    "### T-Test Calculation\n",
    "\n",
    "We will conduct a one-sample t-test. The t-statistic is calculated as:\n",
    "\n",
    "\\[ t = \\frac{{\\bar{X} - \\mu_0}}{{\\frac{s}{\\sqrt{n}}}} \\]\n",
    "\n",
    "Let's assume a significance level (\\(\\alpha\\)) of 0.10:\n",
    "\n"
   ]
  },
  {
   "cell_type": "code",
   "execution_count": 20,
   "id": "d5312993-d91d-4c81-acc7-95170b0874e9",
   "metadata": {},
   "outputs": [
    {
     "data": {
      "text/plain": [
       "(27.386127875258307, 0.0)"
      ]
     },
     "execution_count": 20,
     "metadata": {},
     "output_type": "execute_result"
    }
   ],
   "source": [
    "import numpy as np\n",
    "from scipy import stats\n",
    "\n",
    "# Given data\n",
    "sample_mean = 0.25\n",
    "sample_std_dev = 0.05\n",
    "sample_size = 30\n",
    "confidence_level = 0.90\n",
    "alpha = 0.10\n",
    "\n",
    "# Degrees of freedom\n",
    "df = sample_size - 1\n",
    "\n",
    "# Critical t-value\n",
    "t_critical = stats.t.ppf(1 - alpha / 2, df)\n",
    "\n",
    "# Calculate standard error of the mean (SEM)\n",
    "sem = sample_std_dev / np.sqrt(sample_size)\n",
    "\n",
    "# Calculate t-statistic\n",
    "t_statistic = (sample_mean - 0) / sem\n",
    "\n",
    "# Calculate p-value\n",
    "p_value = 2 * (1 - stats.t.cdf(np.abs(t_statistic), df))\n",
    "\n",
    "t_statistic, p_value\n"
   ]
  },
  {
   "cell_type": "code",
   "execution_count": null,
   "id": "05f4cf44-81ff-4a9d-8c5e-704c97ace9ee",
   "metadata": {},
   "outputs": [],
   "source": []
  }
 ],
 "metadata": {
  "kernelspec": {
   "display_name": "Python 3 (ipykernel)",
   "language": "python",
   "name": "python3"
  },
  "language_info": {
   "codemirror_mode": {
    "name": "ipython",
    "version": 3
   },
   "file_extension": ".py",
   "mimetype": "text/x-python",
   "name": "python",
   "nbconvert_exporter": "python",
   "pygments_lexer": "ipython3",
   "version": "3.10.8"
  }
 },
 "nbformat": 4,
 "nbformat_minor": 5
}
